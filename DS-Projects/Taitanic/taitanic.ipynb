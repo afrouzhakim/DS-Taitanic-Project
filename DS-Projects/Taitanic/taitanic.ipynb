{
 "cells": [
  {
   "cell_type": "code",
   "execution_count": 2,
   "id": "18fa3a20",
   "metadata": {},
   "outputs": [
    {
     "name": "stdout",
     "output_type": "stream",
     "text": [
      "Taitanic\n"
     ]
    }
   ],
   "source": [
    "print('Taitanic')"
   ]
  },
  {
   "cell_type": "code",
   "execution_count": 3,
   "id": "0e03dfdc",
   "metadata": {},
   "outputs": [
    {
     "name": "stdout",
     "output_type": "stream",
     "text": [
      "commit is done!\n"
     ]
    }
   ],
   "source": [
    "print('commit is done!')"
   ]
  },
  {
   "cell_type": "code",
   "execution_count": null,
   "id": "c025dbc0",
   "metadata": {},
   "outputs": [],
   "source": []
  }
 ],
 "metadata": {
  "kernelspec": {
   "display_name": "Python 3 (ipykernel)",
   "language": "python",
   "name": "python3"
  },
  "language_info": {
   "codemirror_mode": {
    "name": "ipython",
    "version": 3
   },
   "file_extension": ".py",
   "mimetype": "text/x-python",
   "name": "python",
   "nbconvert_exporter": "python",
   "pygments_lexer": "ipython3",
   "version": "3.10.7"
  }
 },
 "nbformat": 4,
 "nbformat_minor": 5
}
